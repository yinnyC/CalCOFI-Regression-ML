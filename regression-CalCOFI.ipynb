{
 "cells": [
  {
   "cell_type": "code",
   "execution_count": 15,
   "metadata": {},
   "outputs": [
    {
     "output_type": "stream",
     "name": "stdout",
     "text": [
      "<class 'pandas.core.frame.DataFrame'>\nRangeIndex: 864863 entries, 0 to 864862\nData columns (total 74 columns):\n #   Column               Non-Null Count   Dtype  \n---  ------               --------------   -----  \n 0   Cst_Cnt              864863 non-null  int64  \n 1   Btl_Cnt              864863 non-null  int64  \n 2   Sta_ID               864863 non-null  object \n 3   Depth_ID             864863 non-null  object \n 4   Depthm               864863 non-null  int64  \n 5   T_degC               853900 non-null  float64\n 6   Salnty               817509 non-null  float64\n 7   O2ml_L               696201 non-null  float64\n 8   STheta               812174 non-null  float64\n 9   O2Sat                661274 non-null  float64\n 10  Oxy_µmol/Kg          661268 non-null  float64\n 11  BtlNum               118667 non-null  float64\n 12  RecInd               864863 non-null  int64  \n 13  T_prec               853900 non-null  float64\n 14  T_qual               23127 non-null   float64\n 15  S_prec               817509 non-null  float64\n 16  S_qual               74914 non-null   float64\n 17  P_qual               673755 non-null  float64\n 18  O_qual               184676 non-null  float64\n 19  SThtaq               65823 non-null   float64\n 20  O2Satq               217797 non-null  float64\n 21  ChlorA               225272 non-null  float64\n 22  Chlqua               639166 non-null  float64\n 23  Phaeop               225271 non-null  float64\n 24  Phaqua               639170 non-null  float64\n 25  PO4uM                413317 non-null  float64\n 26  PO4q                 451786 non-null  float64\n 27  SiO3uM               354091 non-null  float64\n 28  SiO3qu               510866 non-null  float64\n 29  NO2uM                337576 non-null  float64\n 30  NO2q                 529474 non-null  float64\n 31  NO3uM                337403 non-null  float64\n 32  NO3q                 529933 non-null  float64\n 33  NH3uM                64962 non-null   float64\n 34  NH3q                 808299 non-null  float64\n 35  C14As1               14432 non-null   float64\n 36  C14A1p               12760 non-null   float64\n 37  C14A1q               848605 non-null  float64\n 38  C14As2               14414 non-null   float64\n 39  C14A2p               12742 non-null   float64\n 40  C14A2q               848623 non-null  float64\n 41  DarkAs               22649 non-null   float64\n 42  DarkAp               20457 non-null   float64\n 43  DarkAq               840440 non-null  float64\n 44  MeanAs               22650 non-null   float64\n 45  MeanAp               20457 non-null   float64\n 46  MeanAq               840439 non-null  float64\n 47  IncTim               14437 non-null   object \n 48  LightP               18651 non-null   float64\n 49  R_Depth              864863 non-null  float64\n 50  R_TEMP               853900 non-null  float64\n 51  R_POTEMP             818816 non-null  float64\n 52  R_SALINITY           817509 non-null  float64\n 53  R_SIGMA              812007 non-null  float64\n 54  R_SVA                812092 non-null  float64\n 55  R_DYNHT              818206 non-null  float64\n 56  R_O2                 696201 non-null  float64\n 57  R_O2Sat              666448 non-null  float64\n 58  R_SIO3               354099 non-null  float64\n 59  R_PO4                413325 non-null  float64\n 60  R_NO3                337411 non-null  float64\n 61  R_NO2                337584 non-null  float64\n 62  R_NH4                64982 non-null   float64\n 63  R_CHLA               225276 non-null  float64\n 64  R_PHAEO              225275 non-null  float64\n 65  R_PRES               864863 non-null  int64  \n 66  R_SAMP               122006 non-null  float64\n 67  DIC1                 1999 non-null    float64\n 68  DIC2                 224 non-null     float64\n 69  TA1                  2084 non-null    float64\n 70  TA2                  234 non-null     float64\n 71  pH2                  10 non-null      float64\n 72  pH1                  84 non-null      float64\n 73  DIC Quality Comment  55 non-null      object \ndtypes: float64(65), int64(5), object(4)\nmemory usage: 488.3+ MB\n"
     ]
    }
   ],
   "source": [
    "import pandas as pd\n",
    "import seaborn as sns\n",
    "import numpy as np\n",
    "import matplotlib.pyplot as plt\n",
    "from matplotlib import animation\n",
    "\n",
    "df = pd.read_csv('')\n",
    "df.info()\n"
   ]
  },
  {
   "cell_type": "code",
   "execution_count": 7,
   "metadata": {},
   "outputs": [],
   "source": [
    "# Data Cleaning\n",
    "df.dropna(axis=1, how='all',thresh= df.shape[0]*0.3,inplace=True)\n"
   ]
  },
  {
   "cell_type": "code",
   "execution_count": null,
   "metadata": {},
   "outputs": [],
   "source": []
  }
 ],
 "metadata": {
  "kernelspec": {
   "display_name": "Python 3",
   "language": "python",
   "name": "python3"
  },
  "language_info": {
   "name": "python",
   "nbconvert_exporter": "python",
   "version": "3.8.5-final"
  },
  "orig_nbformat": 2
 },
 "nbformat": 4,
 "nbformat_minor": 2
}